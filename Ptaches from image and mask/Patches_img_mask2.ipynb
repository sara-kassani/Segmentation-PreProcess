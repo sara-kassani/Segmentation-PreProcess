{
 "cells": [
  {
   "cell_type": "code",
   "execution_count": null,
   "metadata": {},
   "outputs": [],
   "source": [
    "## https://github.com/biomag-lab/hypocotyl-UNet"
   ]
  },
  {
   "cell_type": "code",
   "execution_count": 1,
   "metadata": {},
   "outputs": [],
   "source": [
    "import warnings\n",
    "warnings.filterwarnings('always')\n",
    "warnings.filterwarnings('ignore')"
   ]
  },
  {
   "cell_type": "code",
   "execution_count": 2,
   "metadata": {},
   "outputs": [],
   "source": [
    "import os\n",
    "import numpy as np\n",
    "from skimage import io\n",
    "from itertools import product\n",
    "from collections import defaultdict\n",
    "from shutil import copyfile"
   ]
  },
  {
   "cell_type": "code",
   "execution_count": 7,
   "metadata": {},
   "outputs": [],
   "source": [
    "def make_patches(dataset_path, export_path, patch_size=(52, 52), no_overlap=False):\n",
    "\n",
    "    dataset_images_path = os.path.join(dataset_path, 'images')\n",
    "    dataset_masks_path = os.path.join(dataset_path, 'masks')\n",
    "    new_images_path = os.path.join(export_path, 'images')\n",
    "    new_masks_path = os.path.join(export_path, 'masks')\n",
    "\n",
    "    for image_filename in os.listdir(dataset_images_path):\n",
    "\n",
    "        im = io.imread(os.path.join(dataset_images_path, image_filename))\n",
    "        masked_im = io.imread(os.path.join(dataset_masks_path, image_filename))\n",
    "\n",
    "        x_start = list()\n",
    "        y_start = list()\n",
    "\n",
    "        if no_overlap:\n",
    "            x_step = patch_size[0]\n",
    "            y_step = patch_size[1]\n",
    "        else:\n",
    "            x_step = patch_size[0] // 2\n",
    "            y_step = patch_size[1] // 2\n",
    "\n",
    "        for x_idx in range(0, im.shape[0] - patch_size[0] + 1, x_step):\n",
    "            x_start.append(x_idx)\n",
    "\n",
    "        if im.shape[0] - patch_size[0] - 1 > 0:\n",
    "            x_start.append(im.shape[0] - patch_size[0] - 1)\n",
    "\n",
    "        for y_idx in range(0, im.shape[1] - patch_size[1] + 1, y_step):\n",
    "            y_start.append(y_idx)\n",
    "\n",
    "        if im.shape[1] - patch_size[1] - 1 > 0:\n",
    "            y_start.append(im.shape[1] - patch_size[1] - 1)\n",
    "\n",
    "        for num, (x_idx, y_idx) in enumerate(product(x_start, y_start)):\n",
    "            new_image_filename = os.path.splitext(image_filename)[0] + '_%d.png' % num\n",
    "\n",
    "            io.imsave(\n",
    "                os.path.join(new_images_path, new_image_filename),\n",
    "                im[x_idx:x_idx + patch_size[0], y_idx:y_idx + patch_size[1], :]\n",
    "            )\n",
    "\n",
    "            io.imsave(\n",
    "                os.path.join(new_masks_path, new_image_filename),\n",
    "                masked_im[x_idx:x_idx + patch_size[0], y_idx:y_idx + patch_size[1]]\n",
    "            )"
   ]
  },
  {
   "cell_type": "code",
   "execution_count": 8,
   "metadata": {},
   "outputs": [],
   "source": [
    "dataset_path = 'data/'\n",
    "export_path = 'patches/'"
   ]
  },
  {
   "cell_type": "code",
   "execution_count": 9,
   "metadata": {},
   "outputs": [],
   "source": [
    "make_patches(dataset_path, export_path, patch_size=(52, 52), no_overlap=False)"
   ]
  },
  {
   "cell_type": "code",
   "execution_count": null,
   "metadata": {},
   "outputs": [],
   "source": []
  },
  {
   "cell_type": "code",
   "execution_count": null,
   "metadata": {},
   "outputs": [],
   "source": []
  },
  {
   "cell_type": "code",
   "execution_count": null,
   "metadata": {},
   "outputs": [],
   "source": []
  },
  {
   "cell_type": "code",
   "execution_count": null,
   "metadata": {},
   "outputs": [],
   "source": []
  }
 ],
 "metadata": {
  "kernelspec": {
   "display_name": "Python 3",
   "language": "python",
   "name": "python3"
  },
  "language_info": {
   "codemirror_mode": {
    "name": "ipython",
    "version": 3
   },
   "file_extension": ".py",
   "mimetype": "text/x-python",
   "name": "python",
   "nbconvert_exporter": "python",
   "pygments_lexer": "ipython3",
   "version": "3.6.5"
  }
 },
 "nbformat": 4,
 "nbformat_minor": 2
}
