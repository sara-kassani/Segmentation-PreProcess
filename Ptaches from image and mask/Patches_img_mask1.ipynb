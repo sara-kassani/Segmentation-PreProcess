{
 "cells": [
  {
   "cell_type": "code",
   "execution_count": 23,
   "metadata": {},
   "outputs": [],
   "source": [
    "import warnings\n",
    "warnings.filterwarnings('always')\n",
    "warnings.filterwarnings('ignore')"
   ]
  },
  {
   "cell_type": "code",
   "execution_count": 24,
   "metadata": {},
   "outputs": [],
   "source": [
    "import glob\n",
    "import os\n",
    "from pathlib import Path\n",
    "\n",
    "import numpy as np\n",
    "import matplotlib.pyplot as plt\n",
    "import imageio\n",
    "from sklearn.feature_extraction.image import extract_patches_2d\n",
    "\n",
    "RND_SEED = 7777"
   ]
  },
  {
   "cell_type": "code",
   "execution_count": 25,
   "metadata": {},
   "outputs": [],
   "source": [
    "def is_defective(mask_patch, th=0.01):\n",
    "    \"\"\"\n",
    "    Check if @mask_patch is defective i.e. the percentage of white pixel is > @th\n",
    "        - if the mask associated to the extracted patch is defective -> the patch is saved with a '*KO.png' extension\n",
    "        - if the mask associated to the extracted patch is NOT defective -> the patch is saved with a '*OK.png' extension\n",
    "    \"\"\"\n",
    "    return np.sum(mask_patch) > 255 * mask_patch.shape[0] * mask_patch.shape[1] * th\n"
   ]
  },
  {
   "cell_type": "code",
   "execution_count": 26,
   "metadata": {},
   "outputs": [],
   "source": [
    "def create_patches(img_path, n, size, mask_path=None):\n",
    "    \"\"\"\n",
    "    Load imgs and masks and extract @n random patches possibly with overlap. \n",
    "    If @mask_path is not set, only patch from input images are extracted\n",
    "    \"\"\"\n",
    "    # load imgs\n",
    "    input_img_list = glob.glob(os.path.join(img_path, '*'))\n",
    "    print('Detected %d images from folder --> %s' % (len(input_img_list), os.path.abspath(img_path)))\n",
    "    imgs = np.array([imageio.imread(f) for f in input_img_list])\n",
    "    # extract patches\n",
    "    imgs_patches = np.array([extract_patches_2d(img, (size, size), n, RND_SEED) for img in imgs], dtype=np.uint8)\n",
    "    # create folder to store patches\n",
    "    imgs_patches_path = Path(img_path).parents[0].joinpath(os.path.basename(img_path) + '_patch')\n",
    "    imgs_patches_path.mkdir(exist_ok=True)\n",
    "    # save to folder\n",
    "    if not(mask_path):\n",
    "        print('No mask path has been specified...')\n",
    "        [misc.imsave(os.path.join(imgs_patches_path, os.path.basename(im_path).split('.')[-2] + '_PATCH_' + str(n) + '.png'), \n",
    "                                imgs_patches[id,n,:,:]) for id,im_path in zip(range(imgs_patches.shape[0]), input_img_list) for n in range(imgs_patches.shape[1])]\n",
    "    else: \n",
    "        # load masks\n",
    "        input_mask_list = glob.glob(os.path.join(mask_path, '*'))\n",
    "        print('Detected %d masks from folder --> %s' % (len(input_mask_list), os.path.abspath(mask_path)))\n",
    "        masks = np.array([imageio.imread(f) for f in input_mask_list])\n",
    "        # extract patches\n",
    "        masks_patches = np.array([extract_patches_2d(mask, (size, size), n, RND_SEED) for mask in masks], dtype=np.uint8)\n",
    "        # create folder to store patches\n",
    "        masks_patch_path = Path(mask_path).parents[0].joinpath(os.path.basename(mask_path) + '_patch')\n",
    "        masks_patch_path.mkdir(exist_ok=True)\n",
    "        for (id, m_path, im_path) in zip(range(masks_patches.shape[0]), input_mask_list, input_img_list):\n",
    "            for n in range(masks_patches.shape[1]):\n",
    "                curr_img_patch = imgs_patches[id, n, :, :]\n",
    "                curr_mask_patch = masks_patches[id, n, :, :]\n",
    "                if is_defective(curr_mask_patch):\n",
    "                    imageio.imsave(os.path.join(imgs_patches_path, os.path.basename(im_path).split('.')[-2] + '_PATCH_' + str(n) + '_KO.png'), \n",
    "                                curr_img_patch)\n",
    "                    imageio.imsave(os.path.join(masks_patch_path, os.path.basename(m_path).split('.')[-2] + '_PATCH_' + str(n) + '_KO.png'), \n",
    "                                curr_mask_patch)\n",
    "                else:\n",
    "                    imageio.imsave(os.path.join(imgs_patches_path, os.path.basename(im_path).split('.')[-2] + '_PATCH_' + str(n) + '_OK.png'), \n",
    "                                curr_img_patch)\n",
    "                    imageio.imsave(os.path.join(masks_patch_path, os.path.basename(m_path).split('.')[-2] + '_PATCH_' + str(n) + '_OK.png'), \n",
    "                                curr_mask_patch)"
   ]
  },
  {
   "cell_type": "code",
   "execution_count": 27,
   "metadata": {},
   "outputs": [
    {
     "name": "stdout",
     "output_type": "stream",
     "text": [
      "Detected 28 images from folder --> C:\\Users\\User\\0.Python\\Patches\\data\\images\n",
      "Detected 28 masks from folder --> C:\\Users\\User\\0.Python\\Patches\\data\\masks\n"
     ]
    }
   ],
   "source": [
    "img_path = \"data/images\"\n",
    "mask_path = \"data/masks\"\n",
    "n= 5\n",
    "size = 100\n",
    "\n",
    "create_patches(img_path, n, size, mask_path) "
   ]
  }
 ],
 "metadata": {
  "kernelspec": {
   "display_name": "Python 3",
   "language": "python",
   "name": "python3"
  },
  "language_info": {
   "codemirror_mode": {
    "name": "ipython",
    "version": 3
   },
   "file_extension": ".py",
   "mimetype": "text/x-python",
   "name": "python",
   "nbconvert_exporter": "python",
   "pygments_lexer": "ipython3",
   "version": "3.6.5"
  }
 },
 "nbformat": 4,
 "nbformat_minor": 2
}
